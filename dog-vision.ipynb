{
  "nbformat": 4,
  "nbformat_minor": 0,
  "metadata": {
    "colab": {
      "provenance": [],
      "gpuType": "T4",
      "mount_file_id": "1GyvOoUTzdtpjuwZd2np7LQ7U9R3VgAKx",
      "authorship_tag": "ABX9TyNLArP2LCnFz+wNPFJHPfdp",
      "include_colab_link": true
    },
    "kernelspec": {
      "name": "python3",
      "display_name": "Python 3"
    },
    "language_info": {
      "name": "python"
    },
    "accelerator": "GPU"
  },
  "cells": [
    {
      "cell_type": "markdown",
      "metadata": {
        "id": "view-in-github",
        "colab_type": "text"
      },
      "source": [
        "<a href=\"https://colab.research.google.com/github/rb2002/Comfy-Sloth/blob/main/dog-vision.ipynb\" target=\"_parent\"><img src=\"https://colab.research.google.com/assets/colab-badge.svg\" alt=\"Open In Colab\"/></a>"
      ]
    },
    {
      "cell_type": "markdown",
      "source": [
        "# End-to-end Multi-class Dog Breed Classification\n",
        "\n",
        "This notebook builds an end-to-end multi-class image classifier using Tensorflow 2.0 and TensorFlow Hub.\n",
        "\n",
        "# 1. Problem\n",
        "\n",
        "Identyfing the breed of a dog given an image of a dog.\n",
        "\n",
        "## 1. Data\n",
        "\n",
        "When I'm sitting at the cafe and I take a photo of a dog, I want to know what breed of dog it is.\n",
        "\n",
        "## 2. Data\n",
        "\n",
        "The data we're using is from Kaggle's dog breed identification competition.\n",
        "\n",
        "https://www.kaggle.com/c/dog-breed-identification/data\n",
        "\n",
        "## 3. Evaluation\n",
        "\n",
        "The evaluation is a file with prediction probabilities for each dog breed of each test image.\n",
        "\n",
        "https://www.kaggle.com/c/dog-breed-identification/overview/evaluation\n",
        "\n",
        "## 4. Features\n",
        "\n",
        "Some information about the data:\n",
        "\n",
        "- We're dealing with images (unstructured data) so it's probably best we use deep learning/transfer learning\n",
        "- There are 120 breeds of dogs (this means there are 120 different classes)\n",
        "- There are around 10,000+ images in the training set (these images have labels)\n",
        "- There are around 10,000+ images in the test set (these images have no labels, because we'll want to predict them)"
      ],
      "metadata": {
        "id": "lAyK6mGHGDFK"
      }
    },
    {
      "cell_type": "markdown",
      "source": [],
      "metadata": {
        "id": "EeSPL1TxF_pa"
      }
    },
    {
      "cell_type": "code",
      "execution_count": 7,
      "metadata": {
        "id": "2TZTK5FSa0oy"
      },
      "outputs": [],
      "source": [
        "# Unzip the uploaded data into Google Drive\n",
        "#!unzip \"drive/My Drive/Dog Vision/dog-breed-identification.zip\" -d \"drive/My Drive/Dog Vision/\""
      ]
    },
    {
      "cell_type": "markdown",
      "source": [
        "### Get our workspace ready\n",
        "\n",
        "* Import TensorFlow 2.X\n",
        "* Import TensorFlow Hub\n",
        "* Make sure we're using a GPU"
      ],
      "metadata": {
        "id": "qJR-Tcy5G-Ny"
      }
    },
    {
      "cell_type": "code",
      "source": [
        "# Import necessary tools\n",
        "import tensorflow as tf\n",
        "import tensorflow_hub as hub\n",
        "print(\"TF version:\", tf.__version__)\n",
        "print(\"TF Hub version:\", hub.__version__)\n",
        "\n",
        "# Check for GPU availability\n",
        "print(\"GPU\", \"available\" if tf.config.list_physical_devices(\"GPU\") else \"not available\")"
      ],
      "metadata": {
        "colab": {
          "base_uri": "https://localhost:8080/"
        },
        "id": "Up16_Wb9HBv8",
        "outputId": "8bfd1052-c222-4597-a5a2-0af038a7da88"
      },
      "execution_count": 1,
      "outputs": [
        {
          "output_type": "stream",
          "name": "stdout",
          "text": [
            "TF version: 2.18.0\n",
            "TF Hub version: 0.16.1\n",
            "GPU available\n"
          ]
        }
      ]
    },
    {
      "cell_type": "code",
      "source": [],
      "metadata": {
        "id": "5eAkA76yHS1G"
      },
      "execution_count": null,
      "outputs": []
    }
  ]
}